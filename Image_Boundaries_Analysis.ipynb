{
  "nbformat": 4,
  "nbformat_minor": 0,
  "metadata": {
    "colab": {
      "name": "ECE565_Project2.ipynb",
      "provenance": [],
      "collapsed_sections": [],
      "authorship_tag": "ABX9TyPea8+5FIflTe0o4/MJLYBe",
      "include_colab_link": true
    },
    "kernelspec": {
      "name": "python3",
      "display_name": "Python 3"
    },
    "language_info": {
      "name": "python"
    }
  },
  "cells": [
    {
      "cell_type": "markdown",
      "metadata": {
        "id": "view-in-github",
        "colab_type": "text"
      },
      "source": [
        "<a href=\"https://colab.research.google.com/github/ArthurFDLR/Image_Boundaries_Analysis/blob/main/Image_Boundaries_Analysis.ipynb\" target=\"_parent\"><img src=\"https://colab.research.google.com/assets/colab-badge.svg\" alt=\"Open In Colab\"/></a>"
      ]
    },
    {
      "cell_type": "code",
      "metadata": {
        "id": "EjNumkU3l-J1"
      },
      "source": [
        "import numpy as np\n",
        "import cv2\n",
        "from matplotlib import pyplot as plt\n",
        "from matplotlib.ticker import MaxNLocator\n",
        "\n",
        "from google.colab.patches import cv2_imshow\n",
        "\n",
        "from google.colab import drive\n",
        "drive.mount('/content/drive')"
      ],
      "execution_count": null,
      "outputs": []
    },
    {
      "cell_type": "code",
      "metadata": {
        "id": "9G1k_7l6o7L5"
      },
      "source": [
        "def draw_complex_border(border, img_shape):\n",
        "    img = np.zeros(img_shape)\n",
        "    for c in border:\n",
        "        img[int(c.imag), int(c.real)] = 1.\n",
        "    return img\n",
        "\n",
        "def draw_border(border, img_shape):\n",
        "    img = np.zeros(img_shape)\n",
        "    for c in border:\n",
        "        img[int(c[0]), int(c[1])] = 1.\n",
        "    return img\n",
        "\n",
        "def imshow_hist(img):\n",
        "    hist,bins = np.histogram(img.flatten(),256,[0,256])\n",
        "\n",
        "    fig, (ax1, ax2) = plt.subplots(1, 2, figsize=(7,3))\n",
        "    ax1.imshow(img, cmap='gray'), ax1.set_xticks([]), ax1.set_yticks([])\n",
        "    ax2.plot(hist/np.prod(img.shape), color = 'r', label=r'$p_r$')\n",
        "    ax2.legend()\n",
        "    ax2.set_xlabel(r\"$r_i$\")\n",
        "    fig.tight_layout()\n",
        "    fig.show()\n",
        "\n",
        "def imshow(img):\n",
        "    fig, ax = plt.subplots(dpi=55)\n",
        "    ax.imshow(img, cmap='gray')\n",
        "    ax.set_xticks([])\n",
        "    ax.set_yticks([])\n",
        "    fig.show()"
      ],
      "execution_count": null,
      "outputs": []
    },
    {
      "cell_type": "markdown",
      "metadata": {
        "id": "MoYX_PfHpv7Q"
      },
      "source": [
        "# Global thresholding"
      ]
    },
    {
      "cell_type": "code",
      "metadata": {
        "id": "DdLj4FQDaw07"
      },
      "source": [
        "def basic_global_tresholding(img):\n",
        "    delta_T = 1\n",
        "    T = np.max(img) // 2 # Step 1\n",
        "    T_old = T + delta_T\n",
        "    while abs(T - T_old) >= delta_T: # Step 5\n",
        "        img_treshold = (img > T) # Step 2\n",
        "        m1, m2 = img[~img_treshold].mean(), img[img_treshold].mean() # Step 3\n",
        "        T_old, T = T, (m1 + m2)//2 # Step 4\n",
        "    return (img >= T)*1, T"
      ],
      "execution_count": null,
      "outputs": []
    },
    {
      "cell_type": "code",
      "metadata": {
        "id": "m2_mTHtDpcDw"
      },
      "source": [
        "# Image import\n",
        "noisy_fingerprint = cv2.imread('/content/drive/MyDrive/Colab Notebooks/ECE565/noisy_fingerprint.tif',0)\n",
        "\n",
        "# Computation\n",
        "noisy_fingerprint_tresholded, treshold = basic_global_tresholding(noisy_fingerprint)\n",
        "\n",
        "# Visualization\n",
        "fig, axs = plt.subplots(1, 3, figsize=(10,4), dpi=100)\n",
        "hist,bins = np.histogram(noisy_fingerprint.flatten(),256,[0,256])\n",
        "axs[0].set_title(\"Input image\")\n",
        "axs[0].imshow(noisy_fingerprint, cmap='gray'), axs[0].set_xticks([]), axs[0].set_yticks([])\n",
        "axs[1].set_title(\"Normalized histogram\")\n",
        "axs[1].plot(hist/np.prod(noisy_fingerprint.shape), c='k', label=r'$p_r$')\n",
        "axs[1].legend()\n",
        "axs[1].set_xlabel(r\"$r_i$\")\n",
        "axs[1].axvline(x=treshold, label='Treshold', c='r', ls='dashed')\n",
        "axs[1].set_xticks(list(range(0,255,50)) + [int(treshold)])\n",
        "axs[2].set_title(\"Global thresholding\")\n",
        "axs[2].imshow(noisy_fingerprint_tresholded, cmap='gray'), axs[2].set_xticks([]), axs[2].set_yticks([])\n",
        "fig.tight_layout()\n",
        "fig.show()"
      ],
      "execution_count": null,
      "outputs": []
    },
    {
      "cell_type": "markdown",
      "metadata": {
        "id": "2tHw2SBM0x2R"
      },
      "source": [
        "# Otsu’s thresholding"
      ]
    },
    {
      "cell_type": "code",
      "metadata": {
        "id": "Q_mFxZaZf4Mx"
      },
      "source": [
        "def otsu_tresholding(img):\n",
        "    hist,bins = np.histogram(img.flatten(),256,[0,256]) # Step 1\n",
        "    hist = hist/np.prod(img.shape)\n",
        "    cdf = hist.cumsum() # Step 2\n",
        "    cmf = np.cumsum([p*i for (i, p) in enumerate(hist)]) # Step 3\n",
        "    bcv = np.array(\n",
        "        [(cmf[-1] * P - m)**2 / (P * (1. - P)) if (P * (1. - P)) != 0. else 0. \\\n",
        "         for P, m in zip(cdf, cmf)]\n",
        "    ) # Step 4\n",
        "    T = bcv.argmax().mean() # Step 5\n",
        "    return 1*(img > T), T"
      ],
      "execution_count": null,
      "outputs": []
    },
    {
      "cell_type": "code",
      "metadata": {
        "id": "itrA5aUx0zuj"
      },
      "source": [
        "# Image import\n",
        "img = cv2.imread('/content/drive/MyDrive/Colab Notebooks/ECE565/polymersomes.tif',0)\n",
        "\n",
        "# Computation\n",
        "img_tresholded_otsu, treshold_otsu = otsu_tresholding(img)\n",
        "img_tresholded, treshold = basic_global_tresholding(img)\n",
        "\n",
        "# Visualization\n",
        "fig, axs = plt.subplots(2, 2, figsize=(8,7), dpi=100)\n",
        "axs = [ax for sub_ax in axs for ax in sub_ax]\n",
        "\n",
        "hist,bins = np.histogram(img.flatten(),256,[0,256])\n",
        "axs[0].set_title(\"Input image\")\n",
        "axs[0].imshow(img, cmap='gray'), axs[0].set_xticks([]), axs[0].set_yticks([])\n",
        "axs[1].set_title(\"Normalized histogram\")\n",
        "axs[1].plot(hist/np.prod(noisy_fingerprint.shape), c='k', label=r'$p_r$')\n",
        "axs[1].legend()\n",
        "axs[1].set_xlabel(r\"$r_i$\")\n",
        "axs[1].axvline(x=treshold, c='r', ls='dashed')\n",
        "axs[1].axvline(x=treshold_otsu, c='b', ls='dashed')\n",
        "axs[1].set_xticks(list(range(0,255,50)) + [int(treshold), int(treshold_otsu)])\n",
        "axs[1].set_xlim(125, 225)\n",
        "axs[2].set_title(\"Basic global thresholding\")\n",
        "axs[2].imshow(img_tresholded, cmap='gray'), axs[2].set_xticks([]), axs[2].set_yticks([])\n",
        "axs[3].set_title(\"Otsu's global thresholding\")\n",
        "axs[3].imshow(img_tresholded_otsu, cmap='gray'), axs[3].set_xticks([]), axs[3].set_yticks([])\n",
        "\n",
        "fig.tight_layout()\n",
        "fig.show()"
      ],
      "execution_count": null,
      "outputs": []
    },
    {
      "cell_type": "markdown",
      "metadata": {
        "id": "VTDK_7V59Dln"
      },
      "source": [
        "# Chain codes"
      ]
    },
    {
      "cell_type": "code",
      "metadata": {
        "id": "zZfGzN3BLzxC"
      },
      "source": [
        "def find_upper_left(img):\n",
        "    for i in range(1,img.shape[0]+1):\n",
        "        for j in range(i):\n",
        "            if img[i-j-1, j]:\n",
        "                return (i-j-1, j)\n",
        "    return None\n",
        "\n",
        "def resample(img, grid_width, presence_threshold=0):\n",
        "    img_sub = np.zeros(np.array(img.shape)//grid_width)\n",
        "    img_sub_viz = np.zeros(img.shape)\n",
        "    gw_half = grid_width // 2\n",
        "    for x_sub, x in enumerate(range((img.shape[0]%grid_width)//2 + gw_half, img.shape[0], grid_width)):\n",
        "        for y_sub, y in enumerate(range((img.shape[1]%grid_width)//2 + gw_half, img.shape[1], grid_width)):\n",
        "            if img[x-gw_half:x+gw_half, y-gw_half:y+gw_half].sum() > presence_threshold:\n",
        "                img_sub[x_sub,y_sub] = 1\n",
        "                img_sub_viz[x-1:x+2, y-1:y+2] = np.ones((3,3))\n",
        "    return img_sub, img_sub_viz\n",
        "\n",
        "def boundary_following(border, stay_out=True, allow_diag=True):\n",
        "    \n",
        "    x_n = [0, -1, -1, -1,  0,  1, 1, 1] if allow_diag else [0, -1,  0, 1]\n",
        "    y_n = [1,  1,  0, -1, -1, -1, 0, 1] if allow_diag else [1,  0, -1, 0]\n",
        "    nbr_neighbore = len(x_n)\n",
        "    angle = nbr_neighbore//2\n",
        "    \n",
        "    def get_neighbor(p,a):\n",
        "        x, y = p[0] + x_n[a], p[1] + y_n[a]\n",
        "        if (0 <= x < border.shape[0]) and (0 <= y < border.shape[1]):\n",
        "            return border[x, y]\n",
        "        else: return None\n",
        "\n",
        "    b = find_upper_left(border)\n",
        "    b_init = False\n",
        "    coord_border = [b]\n",
        "    chain_code = []\n",
        "\n",
        "    while True:\n",
        "        # Revolve around b until hit border\n",
        "        while not get_neighbor(b, angle):\n",
        "            angle = (angle - 1) if angle else (nbr_neighbore - 1)\n",
        "        # Prefer direct neighbore\n",
        "        if (not stay_out) and allow_diag and (angle%2 == 1) \\\n",
        "            and get_neighbor(b, (angle - 1) if angle else 7):\n",
        "            angle = (angle - 1) if angle else (nbr_neighbore - 1)\n",
        "        # Update b <- n(k)\n",
        "        b = (b[0] + x_n[angle], b[1] + y_n[angle])\n",
        "        # End condition: two successive boundary pixels already visited\n",
        "        if b_init:\n",
        "            if b == coord_border[1]: break\n",
        "            else: b_init = False\n",
        "        if b == coord_border[0]: b_init = True\n",
        "        # Store new border pixel\n",
        "        chain_code.append(angle)\n",
        "        coord_border.append(b)\n",
        "        # Reset angle, c <- n(k−1)\n",
        "        angle = (angle+angle%2+2)%8 if allow_diag else (angle+1)%4\n",
        "    return np.array(coord_border), chain_code"
      ],
      "execution_count": null,
      "outputs": []
    },
    {
      "cell_type": "code",
      "metadata": {
        "id": "n-1xA_IA9FEv"
      },
      "source": [
        "# Image import\n",
        "img = cv2.imread('/content/drive/MyDrive/Colab Notebooks/ECE565/circular_stroke.tif',0)\n",
        "\n",
        "# Computation\n",
        "kernel_smoothing = np.ones((9,9),np.float32)/(9*9)\n",
        "img_g = cv2.filter2D(img,-1,kernel_smoothing)\n",
        "img_gB, _ = otsu_tresholding(img_g)\n",
        "gB_border, _ = boundary_following(img_gB)\n",
        "img_gB_border = draw_border(gB_border, img.shape)\n",
        "img_gB_border_resampled_4, sampled_viz_4 = resample(img_gB_border, 50, 0)\n",
        "img_gB_border_resampled_8, sampled_viz_8 = resample(img_gB_border, 50, 25)\n",
        "\n",
        "# Visualization\n",
        "fig, axs = plt.subplots(2, 3, figsize=(11,8), dpi=100)\n",
        "axs = [ax for sub_ax in axs for ax in sub_ax]\n",
        "for ax in axs:\n",
        "    ax.set_xticks([])\n",
        "    ax.set_yticks([])\n",
        "\n",
        "axs[0].set_title('Input image')\n",
        "axs[0].imshow(img, cmap='gray')\n",
        "axs[1].set_title('Smoothed image')\n",
        "axs[1].imshow(img_g, cmap='gray')\n",
        "axs[2].set_title('Thresholded image')\n",
        "axs[2].imshow(img_gB, cmap='gray')\n",
        "axs[3].set_title('Outer boundary')\n",
        "axs[3].imshow(img_gB_border, cmap='gray')\n",
        "axs[4].set_title('Subsampled 4-directional boundary')\n",
        "axs[4].imshow(sampled_viz_4, cmap='gray')\n",
        "axs[5].set_title('Subsampled 8-directional boundary')\n",
        "axs[5].imshow(sampled_viz_8, cmap='gray')\n",
        "\n",
        "fig.tight_layout()\n",
        "fig.show()"
      ],
      "execution_count": null,
      "outputs": []
    },
    {
      "cell_type": "code",
      "metadata": {
        "id": "olaaFNZrBRYS"
      },
      "source": [
        "def get_first_diff(chain_code):\n",
        "    nbr_direction = max(chain_code)+1\n",
        "    out = [(nbr_direction+chain_code[0]-chain_code[-1])%nbr_direction]\n",
        "    for i in range(len(chain_code)-1):\n",
        "        out.append((nbr_direction+chain_code[i+1]-chain_code[i])%nbr_direction)\n",
        "    return out \n",
        "\n",
        "def get_magnitude(l):\n",
        "    out = 0\n",
        "    for i in l:\n",
        "        out = out * 10 + i\n",
        "    return out\n",
        "\n",
        "def get_min_mag(chain_code):\n",
        "    mini = get_magnitude(chain_code)\n",
        "    mini_chain = chain_code\n",
        "    for i in range(1,len(chain_code)):\n",
        "        c = chain_code[i:] + chain_code[:i]\n",
        "        mag_c = get_magnitude(c)\n",
        "        if mag_c<mini:\n",
        "            mini = mag_c\n",
        "            mini_chain = c\n",
        "    return mini_chain"
      ],
      "execution_count": null,
      "outputs": []
    },
    {
      "cell_type": "code",
      "metadata": {
        "id": "RyyyyVXZ1hHG"
      },
      "source": [
        "print('4-directional:')\n",
        "_, chain_code_4 = boundary_following(img_gB_border_resampled_4, stay_out=False, allow_diag=False)\n",
        "print(\"Chain code:\\t\\t\", chain_code_4)\n",
        "\n",
        "chain_code_diff_4 = get_first_diff(chain_code_4)\n",
        "print(\"First difference:\\t\", chain_code_diff_4)\n",
        "\n",
        "chain_code_diff_min_4 = get_min_mag(chain_code_diff_4)\n",
        "print(\"Minimum magnitude:\\t\",chain_code_diff_min_4)\n",
        "\n",
        "print('\\n8-directional:')\n",
        "_, chain_code_8 = boundary_following(img_gB_border_resampled_8, stay_out=False)\n",
        "print(\"Chain code:\\t\\t\", chain_code_8)\n",
        "\n",
        "chain_code_diff_8 = get_first_diff(chain_code_8)\n",
        "print(\"First difference:\\t\", chain_code_diff_8)\n",
        "\n",
        "chain_code_diff_min_8 = get_min_mag(chain_code_diff_8)\n",
        "print(\"Minimum magnitude:\\t\",chain_code_diff_min_8)"
      ],
      "execution_count": null,
      "outputs": []
    },
    {
      "cell_type": "markdown",
      "metadata": {
        "id": "tHOofo2LBqn_"
      },
      "source": [
        "# Fourier Descriptors"
      ]
    },
    {
      "cell_type": "code",
      "metadata": {
        "id": "iGt06lzXJtFZ"
      },
      "source": [
        "def fourierdescp(s):\n",
        "    return np.fft.fft(s, len(s))\n",
        "\n",
        "def ifourierdescp(a, P):\n",
        "    P = min(len(a), P)\n",
        "    mid = len(a) // 2\n",
        "    low  = mid - P // 2\n",
        "    high = mid + P // 2\n",
        "    a_trunc = np.zeros(a.shape, np.complex_)\n",
        "    a_trunc[low:high] = np.fft.fftshift(a)[low:high]\n",
        "    return np.fft.ifft(np.fft.ifftshift(a_trunc))"
      ],
      "execution_count": null,
      "outputs": []
    },
    {
      "cell_type": "code",
      "metadata": {
        "id": "ia9mJgPSCdm-",
        "collapsed": true
      },
      "source": [
        "# Image import\n",
        "img = cv2.imread('/content/drive/MyDrive/Colab Notebooks/ECE565/chromosome.tif',0)\n",
        "\n",
        "# Computation\n",
        "border_coord, _ = boundary_following(img)\n",
        "img_border = draw_border(border_coord, img.shape)\n",
        "border_complex = np.array([c[1] + 1j * c[0] for c in border_coord])\n",
        "fourier_descriptors = fourierdescp(border_complex)\n",
        "FD_size = fourier_descriptors.shape[0]\n",
        "\n",
        "# Vizualisation\n",
        "fig, axs = plt.subplots(2, 3, figsize=(10,8), dpi=100)\n",
        "axs_flat = [ax for sub_ax in axs for ax in sub_ax]\n",
        "for ax in axs_flat:\n",
        "    ax.set_xticks([])\n",
        "    ax.set_yticks([])\n",
        "\n",
        "axs_flat[0].set_title('Input image')\n",
        "axs_flat[0].imshow(img, cmap='gray')\n",
        "for i, compression in enumerate([1., .5, .1, .01, .005]):\n",
        "    border_complex_smoothed = ifourierdescp(fourier_descriptors, int(FD_size*compression))\n",
        "    axs_flat[i+1].set_title(r'$\\gamma = ${:.1%}'.format(compression))\n",
        "    axs_flat[i+1].imshow(draw_complex_border(border_complex_smoothed, img.shape), cmap='gray')\n",
        "\n",
        "fig.tight_layout()\n",
        "fig.show()"
      ],
      "execution_count": null,
      "outputs": []
    }
  ]
}